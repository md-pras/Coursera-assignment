{
  "nbformat": 4,
  "nbformat_minor": 0,
  "metadata": {
    "accelerator": "GPU",
    "colab": {
      "name": "NLP_Week4_Exercise_Shakespeare_Question.ipynb",
      "provenance": [],
      "include_colab_link": true
    },
    "kernelspec": {
      "display_name": "Python 3",
      "name": "python3"
    }
  },
  "cells": [
    {
      "cell_type": "markdown",
      "metadata": {
        "id": "view-in-github",
        "colab_type": "text"
      },
      "source": [
        "<a href=\"https://colab.research.google.com/github/md-pras/Coursera-assignment/blob/main/DeepLearning.AI%20-%20Natural%20Language%20Processing%20in%20TensorFlow/Week4%20-%20NLP%20Exercise%20Shakespeare.ipynb\" target=\"_parent\"><img src=\"https://colab.research.google.com/assets/colab-badge.svg\" alt=\"Open In Colab\"/></a>"
      ]
    },
    {
      "cell_type": "code",
      "metadata": {
        "id": "zX4Kg8DUTKWO"
      },
      "source": [
        "#@title Licensed under the Apache License, Version 2.0 (the \"License\");\n",
        "# you may not use this file except in compliance with the License.\n",
        "# You may obtain a copy of the License at\n",
        "#\n",
        "# https://www.apache.org/licenses/LICENSE-2.0\n",
        "#\n",
        "# Unless required by applicable law or agreed to in writing, software\n",
        "# distributed under the License is distributed on an \"AS IS\" BASIS,\n",
        "# WITHOUT WARRANTIES OR CONDITIONS OF ANY KIND, either express or implied.\n",
        "# See the License for the specific language governing permissions and\n",
        "# limitations under the License."
      ],
      "execution_count": null,
      "outputs": []
    },
    {
      "cell_type": "code",
      "metadata": {
        "id": "BOwsuGQQY9OL"
      },
      "source": [
        "from tensorflow.keras.preprocessing.sequence import pad_sequences\n",
        "from tensorflow.keras.layers import Embedding, LSTM, Dense, Dropout, Bidirectional\n",
        "from tensorflow.keras.preprocessing.text import Tokenizer\n",
        "from tensorflow.keras.models import Sequential\n",
        "from tensorflow.keras.optimizers import Adam\n",
        "### YOUR CODE HERE\n",
        "# Figure out how to import regularizers\n",
        "###\n",
        "import tensorflow.keras.utils as ku \n",
        "import numpy as np "
      ],
      "execution_count": 1,
      "outputs": []
    },
    {
      "cell_type": "code",
      "metadata": {
        "colab": {
          "base_uri": "https://localhost:8080/"
        },
        "id": "PRnDnCW-Z7qv",
        "outputId": "687c8e34-3a69-421a-b3cc-5b721a9889ae"
      },
      "source": [
        "tokenizer = Tokenizer()\n",
        "!wget --no-check-certificate \\\n",
        "    https://storage.googleapis.com/laurencemoroney-blog.appspot.com/sonnets.txt \\\n",
        "    -O /tmp/sonnets.txt\n",
        "data = open('/tmp/sonnets.txt').read()\n",
        "\n",
        "corpus = data.lower().split(\"\\n\")\n",
        "\n",
        "\n",
        "tokenizer.fit_on_texts(corpus)\n",
        "total_words = len(tokenizer.word_index) + 1\n",
        "\n",
        "# create input sequences using list of tokens\n",
        "input_sequences = []\n",
        "for line in corpus:\n",
        "\ttoken_list = tokenizer.texts_to_sequences([line])[0]\n",
        "\tfor i in range(1, len(token_list)):\n",
        "\t\tn_gram_sequence = token_list[:i+1]\n",
        "\t\tinput_sequences.append(n_gram_sequence)\n",
        "\n",
        "\n",
        "# pad sequences \n",
        "max_sequence_len = max([len(x) for x in input_sequences])\n",
        "input_sequences = np.array(pad_sequences(input_sequences, maxlen=max_sequence_len, padding='pre'))\n",
        "\n",
        "# create predictors and label\n",
        "predictors, label = input_sequences[:,:-1],input_sequences[:,-1]\n",
        "\n",
        "label = ku.to_categorical(label, num_classes=total_words)"
      ],
      "execution_count": 2,
      "outputs": [
        {
          "output_type": "stream",
          "text": [
            "--2021-08-25 00:39:43--  https://storage.googleapis.com/laurencemoroney-blog.appspot.com/sonnets.txt\n",
            "Resolving storage.googleapis.com (storage.googleapis.com)... 64.233.184.128, 64.233.167.128, 64.233.166.128, ...\n",
            "Connecting to storage.googleapis.com (storage.googleapis.com)|64.233.184.128|:443... connected.\n",
            "HTTP request sent, awaiting response... 200 OK\n",
            "Length: 93578 (91K) [text/plain]\n",
            "Saving to: ‘/tmp/sonnets.txt’\n",
            "\n",
            "\r/tmp/sonnets.txt      0%[                    ]       0  --.-KB/s               \r/tmp/sonnets.txt    100%[===================>]  91.38K  --.-KB/s    in 0.001s  \n",
            "\n",
            "2021-08-25 00:39:43 (95.0 MB/s) - ‘/tmp/sonnets.txt’ saved [93578/93578]\n",
            "\n"
          ],
          "name": "stdout"
        }
      ]
    },
    {
      "cell_type": "code",
      "metadata": {
        "colab": {
          "base_uri": "https://localhost:8080/"
        },
        "id": "w9vH8Y59ajYL",
        "outputId": "75f0f517-02e3-4daf-aaaf-3105d10daa1d"
      },
      "source": [
        "model = Sequential()\n",
        "model.add(Embedding(total_words, 100, input_length=max_sequence_len-1))\n",
        "model.add(Bidirectional(LSTM(150, return_sequences = True)))\n",
        "model.add(Dropout(0.2))\n",
        "model.add(LSTM(100))\n",
        "model.add(Dense(total_words/2, activation='relu'))\n",
        "model.add(Dense(total_words, activation='softmax'))\n",
        "model.compile(loss='categorical_crossentropy', optimizer='adam', metrics=['accuracy'])\n",
        "print(model.summary())"
      ],
      "execution_count": 5,
      "outputs": [
        {
          "output_type": "stream",
          "text": [
            "Model: \"sequential_2\"\n",
            "_________________________________________________________________\n",
            "Layer (type)                 Output Shape              Param #   \n",
            "=================================================================\n",
            "embedding_2 (Embedding)      (None, 10, 100)           321100    \n",
            "_________________________________________________________________\n",
            "bidirectional_2 (Bidirection (None, 10, 300)           301200    \n",
            "_________________________________________________________________\n",
            "dropout_2 (Dropout)          (None, 10, 300)           0         \n",
            "_________________________________________________________________\n",
            "lstm_5 (LSTM)                (None, 100)               160400    \n",
            "_________________________________________________________________\n",
            "dense (Dense)                (None, 1605)              162105    \n",
            "_________________________________________________________________\n",
            "dense_1 (Dense)              (None, 3211)              5156866   \n",
            "=================================================================\n",
            "Total params: 6,101,671\n",
            "Trainable params: 6,101,671\n",
            "Non-trainable params: 0\n",
            "_________________________________________________________________\n",
            "None\n"
          ],
          "name": "stdout"
        }
      ]
    },
    {
      "cell_type": "code",
      "metadata": {
        "colab": {
          "base_uri": "https://localhost:8080/"
        },
        "id": "AIg2f1HBxqof",
        "outputId": "c97bf623-2e99-4982-948e-3d595a4a4231"
      },
      "source": [
        " history = model.fit(predictors, label, epochs=100, verbose=1)"
      ],
      "execution_count": 6,
      "outputs": [
        {
          "output_type": "stream",
          "text": [
            "Epoch 1/100\n",
            "484/484 [==============================] - 21s 24ms/step - loss: 6.8075 - accuracy: 0.0245\n",
            "Epoch 2/100\n",
            "484/484 [==============================] - 11s 24ms/step - loss: 6.4250 - accuracy: 0.0320\n",
            "Epoch 3/100\n",
            "484/484 [==============================] - 12s 24ms/step - loss: 6.2174 - accuracy: 0.0377\n",
            "Epoch 4/100\n",
            "484/484 [==============================] - 11s 24ms/step - loss: 5.9976 - accuracy: 0.0433\n",
            "Epoch 5/100\n",
            "484/484 [==============================] - 11s 23ms/step - loss: 5.7451 - accuracy: 0.0547\n",
            "Epoch 6/100\n",
            "484/484 [==============================] - 11s 23ms/step - loss: 5.5015 - accuracy: 0.0667\n",
            "Epoch 7/100\n",
            "484/484 [==============================] - 11s 23ms/step - loss: 5.2605 - accuracy: 0.0759\n",
            "Epoch 8/100\n",
            "484/484 [==============================] - 11s 23ms/step - loss: 5.0152 - accuracy: 0.0918\n",
            "Epoch 9/100\n",
            "484/484 [==============================] - 11s 23ms/step - loss: 4.7637 - accuracy: 0.1084\n",
            "Epoch 10/100\n",
            "484/484 [==============================] - 11s 22ms/step - loss: 4.5061 - accuracy: 0.1257\n",
            "Epoch 11/100\n",
            "484/484 [==============================] - 11s 22ms/step - loss: 4.2278 - accuracy: 0.1468\n",
            "Epoch 12/100\n",
            "484/484 [==============================] - 11s 22ms/step - loss: 3.9386 - accuracy: 0.1791\n",
            "Epoch 13/100\n",
            "484/484 [==============================] - 11s 22ms/step - loss: 3.6261 - accuracy: 0.2163\n",
            "Epoch 14/100\n",
            "484/484 [==============================] - 11s 22ms/step - loss: 3.3194 - accuracy: 0.2667\n",
            "Epoch 15/100\n",
            "484/484 [==============================] - 11s 22ms/step - loss: 3.0081 - accuracy: 0.3186\n",
            "Epoch 16/100\n",
            "484/484 [==============================] - 11s 22ms/step - loss: 2.7320 - accuracy: 0.3759\n",
            "Epoch 17/100\n",
            "484/484 [==============================] - 11s 22ms/step - loss: 2.4713 - accuracy: 0.4172\n",
            "Epoch 18/100\n",
            "484/484 [==============================] - 11s 22ms/step - loss: 2.2602 - accuracy: 0.4644\n",
            "Epoch 19/100\n",
            "484/484 [==============================] - 11s 22ms/step - loss: 2.0376 - accuracy: 0.5120\n",
            "Epoch 20/100\n",
            "484/484 [==============================] - 11s 22ms/step - loss: 1.8669 - accuracy: 0.5424\n",
            "Epoch 21/100\n",
            "484/484 [==============================] - 11s 22ms/step - loss: 1.7182 - accuracy: 0.5773\n",
            "Epoch 22/100\n",
            "484/484 [==============================] - 11s 22ms/step - loss: 1.5754 - accuracy: 0.6127\n",
            "Epoch 23/100\n",
            "484/484 [==============================] - 11s 22ms/step - loss: 1.4496 - accuracy: 0.6408\n",
            "Epoch 24/100\n",
            "484/484 [==============================] - 11s 22ms/step - loss: 1.3378 - accuracy: 0.6645\n",
            "Epoch 25/100\n",
            "484/484 [==============================] - 11s 22ms/step - loss: 1.2518 - accuracy: 0.6850\n",
            "Epoch 26/100\n",
            "484/484 [==============================] - 11s 22ms/step - loss: 1.1645 - accuracy: 0.7083\n",
            "Epoch 27/100\n",
            "484/484 [==============================] - 11s 22ms/step - loss: 1.1111 - accuracy: 0.7189\n",
            "Epoch 28/100\n",
            "484/484 [==============================] - 11s 22ms/step - loss: 1.0465 - accuracy: 0.7349\n",
            "Epoch 29/100\n",
            "484/484 [==============================] - 11s 22ms/step - loss: 0.9800 - accuracy: 0.7523\n",
            "Epoch 30/100\n",
            "484/484 [==============================] - 11s 22ms/step - loss: 0.9289 - accuracy: 0.7621\n",
            "Epoch 31/100\n",
            "484/484 [==============================] - 11s 22ms/step - loss: 0.8857 - accuracy: 0.7737\n",
            "Epoch 32/100\n",
            "484/484 [==============================] - 11s 22ms/step - loss: 0.8723 - accuracy: 0.7740\n",
            "Epoch 33/100\n",
            "484/484 [==============================] - 11s 22ms/step - loss: 0.8341 - accuracy: 0.7826\n",
            "Epoch 34/100\n",
            "484/484 [==============================] - 11s 22ms/step - loss: 0.8134 - accuracy: 0.7877\n",
            "Epoch 35/100\n",
            "484/484 [==============================] - 11s 22ms/step - loss: 0.7974 - accuracy: 0.7913\n",
            "Epoch 36/100\n",
            "484/484 [==============================] - 11s 22ms/step - loss: 0.7847 - accuracy: 0.7941\n",
            "Epoch 37/100\n",
            "484/484 [==============================] - 11s 22ms/step - loss: 0.7462 - accuracy: 0.8066\n",
            "Epoch 38/100\n",
            "484/484 [==============================] - 11s 22ms/step - loss: 0.7379 - accuracy: 0.8060\n",
            "Epoch 39/100\n",
            "484/484 [==============================] - 11s 22ms/step - loss: 0.7329 - accuracy: 0.8049\n",
            "Epoch 40/100\n",
            "484/484 [==============================] - 11s 22ms/step - loss: 0.7280 - accuracy: 0.8062\n",
            "Epoch 41/100\n",
            "484/484 [==============================] - 11s 22ms/step - loss: 0.6912 - accuracy: 0.8140\n",
            "Epoch 42/100\n",
            "484/484 [==============================] - 11s 22ms/step - loss: 0.6667 - accuracy: 0.8218\n",
            "Epoch 43/100\n",
            "484/484 [==============================] - 11s 22ms/step - loss: 0.6494 - accuracy: 0.8282\n",
            "Epoch 44/100\n",
            "484/484 [==============================] - 11s 23ms/step - loss: 0.6688 - accuracy: 0.8214\n",
            "Epoch 45/100\n",
            "484/484 [==============================] - 11s 22ms/step - loss: 0.6704 - accuracy: 0.8171\n",
            "Epoch 46/100\n",
            "484/484 [==============================] - 11s 22ms/step - loss: 0.6627 - accuracy: 0.8204\n",
            "Epoch 47/100\n",
            "484/484 [==============================] - 11s 22ms/step - loss: 0.6429 - accuracy: 0.8249\n",
            "Epoch 48/100\n",
            "484/484 [==============================] - 11s 22ms/step - loss: 0.6285 - accuracy: 0.8275\n",
            "Epoch 49/100\n",
            "484/484 [==============================] - 11s 23ms/step - loss: 0.6303 - accuracy: 0.8265\n",
            "Epoch 50/100\n",
            "484/484 [==============================] - 11s 22ms/step - loss: 0.6176 - accuracy: 0.8291\n",
            "Epoch 51/100\n",
            "484/484 [==============================] - 11s 22ms/step - loss: 0.6149 - accuracy: 0.8293\n",
            "Epoch 52/100\n",
            "484/484 [==============================] - 11s 22ms/step - loss: 0.6240 - accuracy: 0.8273\n",
            "Epoch 53/100\n",
            "484/484 [==============================] - 11s 22ms/step - loss: 0.6278 - accuracy: 0.8274\n",
            "Epoch 54/100\n",
            "484/484 [==============================] - 11s 22ms/step - loss: 0.6013 - accuracy: 0.8340\n",
            "Epoch 55/100\n",
            "484/484 [==============================] - 11s 22ms/step - loss: 0.5846 - accuracy: 0.8359\n",
            "Epoch 56/100\n",
            "484/484 [==============================] - 11s 23ms/step - loss: 0.5950 - accuracy: 0.8323\n",
            "Epoch 57/100\n",
            "484/484 [==============================] - 11s 22ms/step - loss: 0.5879 - accuracy: 0.8348\n",
            "Epoch 58/100\n",
            "484/484 [==============================] - 11s 22ms/step - loss: 0.5837 - accuracy: 0.8343\n",
            "Epoch 59/100\n",
            "484/484 [==============================] - 11s 22ms/step - loss: 0.5937 - accuracy: 0.8322\n",
            "Epoch 60/100\n",
            "484/484 [==============================] - 11s 23ms/step - loss: 0.6012 - accuracy: 0.8291\n",
            "Epoch 61/100\n",
            "484/484 [==============================] - 11s 22ms/step - loss: 0.5748 - accuracy: 0.8350\n",
            "Epoch 62/100\n",
            "484/484 [==============================] - 11s 22ms/step - loss: 0.5803 - accuracy: 0.8337\n",
            "Epoch 63/100\n",
            "484/484 [==============================] - 11s 22ms/step - loss: 0.5715 - accuracy: 0.8364\n",
            "Epoch 64/100\n",
            "484/484 [==============================] - 11s 22ms/step - loss: 0.5825 - accuracy: 0.8329\n",
            "Epoch 65/100\n",
            "484/484 [==============================] - 11s 22ms/step - loss: 0.5829 - accuracy: 0.8304\n",
            "Epoch 66/100\n",
            "484/484 [==============================] - 11s 23ms/step - loss: 0.5602 - accuracy: 0.8392\n",
            "Epoch 67/100\n",
            "484/484 [==============================] - 11s 22ms/step - loss: 0.5525 - accuracy: 0.8413\n",
            "Epoch 68/100\n",
            "484/484 [==============================] - 11s 22ms/step - loss: 0.5576 - accuracy: 0.8388\n",
            "Epoch 69/100\n",
            "484/484 [==============================] - 11s 22ms/step - loss: 0.5677 - accuracy: 0.8377\n",
            "Epoch 70/100\n",
            "484/484 [==============================] - 11s 23ms/step - loss: 0.5554 - accuracy: 0.8395\n",
            "Epoch 71/100\n",
            "484/484 [==============================] - 11s 22ms/step - loss: 0.5621 - accuracy: 0.8340\n",
            "Epoch 72/100\n",
            "484/484 [==============================] - 11s 22ms/step - loss: 0.5550 - accuracy: 0.8395\n",
            "Epoch 73/100\n",
            "484/484 [==============================] - 11s 22ms/step - loss: 0.5581 - accuracy: 0.8375\n",
            "Epoch 74/100\n",
            "484/484 [==============================] - 11s 22ms/step - loss: 0.5537 - accuracy: 0.8382\n",
            "Epoch 75/100\n",
            "484/484 [==============================] - 11s 23ms/step - loss: 0.5449 - accuracy: 0.8413\n",
            "Epoch 76/100\n",
            "484/484 [==============================] - 11s 22ms/step - loss: 0.5490 - accuracy: 0.8398\n",
            "Epoch 77/100\n",
            "484/484 [==============================] - 11s 22ms/step - loss: 0.5506 - accuracy: 0.8377\n",
            "Epoch 78/100\n",
            "484/484 [==============================] - 11s 23ms/step - loss: 0.5403 - accuracy: 0.8408\n",
            "Epoch 79/100\n",
            "484/484 [==============================] - 11s 22ms/step - loss: 0.5449 - accuracy: 0.8386\n",
            "Epoch 80/100\n",
            "484/484 [==============================] - 11s 23ms/step - loss: 0.5587 - accuracy: 0.8361\n",
            "Epoch 81/100\n",
            "484/484 [==============================] - 11s 22ms/step - loss: 0.5553 - accuracy: 0.8369\n",
            "Epoch 82/100\n",
            "484/484 [==============================] - 11s 23ms/step - loss: 0.5392 - accuracy: 0.8408\n",
            "Epoch 83/100\n",
            "484/484 [==============================] - 11s 23ms/step - loss: 0.5371 - accuracy: 0.8410\n",
            "Epoch 84/100\n",
            "484/484 [==============================] - 11s 23ms/step - loss: 0.5374 - accuracy: 0.8399\n",
            "Epoch 85/100\n",
            "484/484 [==============================] - 11s 22ms/step - loss: 0.5477 - accuracy: 0.8390\n",
            "Epoch 86/100\n",
            "484/484 [==============================] - 11s 22ms/step - loss: 0.5318 - accuracy: 0.8415\n",
            "Epoch 87/100\n",
            "484/484 [==============================] - 11s 23ms/step - loss: 0.5302 - accuracy: 0.8419\n",
            "Epoch 88/100\n",
            "484/484 [==============================] - 11s 22ms/step - loss: 0.5258 - accuracy: 0.8425\n",
            "Epoch 89/100\n",
            "484/484 [==============================] - 11s 22ms/step - loss: 0.5339 - accuracy: 0.8406\n",
            "Epoch 90/100\n",
            "484/484 [==============================] - 11s 22ms/step - loss: 0.5401 - accuracy: 0.8384\n",
            "Epoch 91/100\n",
            "484/484 [==============================] - 11s 22ms/step - loss: 0.5476 - accuracy: 0.8387\n",
            "Epoch 92/100\n",
            "484/484 [==============================] - 11s 22ms/step - loss: 0.5328 - accuracy: 0.8394\n",
            "Epoch 93/100\n",
            "484/484 [==============================] - 11s 22ms/step - loss: 0.5339 - accuracy: 0.8408\n",
            "Epoch 94/100\n",
            "484/484 [==============================] - 11s 22ms/step - loss: 0.5312 - accuracy: 0.8410\n",
            "Epoch 95/100\n",
            "484/484 [==============================] - 11s 22ms/step - loss: 0.5163 - accuracy: 0.8460\n",
            "Epoch 96/100\n",
            "484/484 [==============================] - 11s 22ms/step - loss: 0.5175 - accuracy: 0.8438\n",
            "Epoch 97/100\n",
            "484/484 [==============================] - 11s 22ms/step - loss: 0.5332 - accuracy: 0.8395\n",
            "Epoch 98/100\n",
            "484/484 [==============================] - 11s 22ms/step - loss: 0.5292 - accuracy: 0.8401\n",
            "Epoch 99/100\n",
            "484/484 [==============================] - 10s 22ms/step - loss: 0.5263 - accuracy: 0.8426\n",
            "Epoch 100/100\n",
            "484/484 [==============================] - 11s 22ms/step - loss: 0.5128 - accuracy: 0.8446\n"
          ],
          "name": "stdout"
        }
      ]
    },
    {
      "cell_type": "code",
      "metadata": {
        "colab": {
          "base_uri": "https://localhost:8080/",
          "height": 545
        },
        "id": "1fXTEO3GJ282",
        "outputId": "4a9c581a-ab57-47b0-b850-0a62e97d7f56"
      },
      "source": [
        "import matplotlib.pyplot as plt\n",
        "acc = history.history['accuracy']\n",
        "loss = history.history['loss']\n",
        "\n",
        "epochs = range(len(acc))\n",
        "\n",
        "plt.plot(epochs, acc, 'b', label='Training accuracy')\n",
        "plt.title('Training accuracy')\n",
        "\n",
        "plt.figure()\n",
        "\n",
        "plt.plot(epochs, loss, 'b', label='Training Loss')\n",
        "plt.title('Training loss')\n",
        "plt.legend()\n",
        "\n",
        "plt.show()"
      ],
      "execution_count": 7,
      "outputs": [
        {
          "output_type": "display_data",
          "data": {
            "image/png": "[encoded data removed]",
            "text/plain": [
              "<Figure size 432x288 with 1 Axes>"
            ]
          },
          "metadata": {
            "needs_background": "light"
          }
        },
        {
          "output_type": "display_data",
          "data": {
            "image/png": "[encoded data removed]",
            "text/plain": [
              "<Figure size 432x288 with 1 Axes>"
            ]
          },
          "metadata": {
            "needs_background": "light"
          }
        }
      ]
    },
    {
      "cell_type": "code",
      "metadata": {
        "id": "6Vc6PHgxa6Hm"
      },
      "source": [
        "seed_text = \"Help me Obi Wan Kenobi, you're my only hope\"\n",
        "next_words = 100\n",
        "  \n",
        "for _ in range(next_words):\n",
        "\ttoken_list = tokenizer.texts_to_sequences([seed_text])[0]\n",
        "\ttoken_list = pad_sequences([token_list], maxlen=max_sequence_len-1, padding='pre')\n",
        "\tpredicted = model.predict_classes(token_list, verbose=0)\n",
        "\toutput_word = \"\"\n",
        "\tfor word, index in tokenizer.word_index.items():\n",
        "\t\tif index == predicted:\n",
        "\t\t\toutput_word = word\n",
        "\t\t\tbreak\n",
        "\tseed_text += \" \" + output_word\n",
        "print(seed_text)"
      ],
      "execution_count": null,
      "outputs": []
    }
  ]
}